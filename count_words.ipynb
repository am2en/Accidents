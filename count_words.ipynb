{
 "cells": [
  {
   "cell_type": "code",
   "execution_count": 7,
   "metadata": {
    "collapsed": true
   },
   "outputs": [],
   "source": [
    "import string\n",
    "from nltk.corpus import stopwords\n",
    "from collections import Counter\n",
    "import matplotlib.pyplot as plt\n",
    "%matplotlib inline\n",
    "import warnings\n",
    "warnings.filterwarnings('ignore')"
   ]
  },
  {
   "cell_type": "code",
   "execution_count": 8,
   "metadata": {
    "collapsed": true
   },
   "outputs": [],
   "source": [
    "def text_process(mess):\n",
    "    \"\"\"\n",
    "    Takes in a string of text, then performs the following:\n",
    "    1. Remove all punctuation\n",
    "    2. Remove all stopwords\n",
    "    3. Returns a list of the cleaned text\n",
    "    \"\"\"\n",
    "    # Check characters to see if they are in punctuation\n",
    "    nopunc = [char for char in mess if char not in string.punctuation]\n",
    "\n",
    "    # Join the characters again to form the string.\n",
    "    nopunc = ''.join(nopunc)\n",
    "    \n",
    "    # Now just remove any stopwords\n",
    "    return ' '.join(word for word in nopunc.split() if word.lower() not in stopwords.words('english'))"
   ]
  },
  {
   "cell_type": "code",
   "execution_count": null,
   "metadata": {},
   "outputs": [],
   "source": [
    "from collections import Counter\n",
    "plt.figure(figsize=(15,10))\n",
    "def histogram_label(df):\n",
    "    i=1\n",
    "    df_title_category = df[['TITLE','CATEGORY']]\n",
    "    df_title_category['TITLE']=df_title_category['TITLE'].apply(text_process).str.lower()\n",
    "    \n",
    "    categories =df['CATEGORY'].drop_duplicates().tolist()\n",
    "    for category in categories:\n",
    "            df_title=df_title_category.query('CATEGORY ==  @category')\n",
    "            result =\" \".join(df_title['TITLE'].values.tolist()).split(\" \")\n",
    "            Counter_=Counter(result).most_common(10)\n",
    "       \n",
    "   \n",
    "            labels = [item[0] for item in Counter_]\n",
    "            number = [item[1] for item in Counter_]\n",
    "            nbars = len(Counter_)\n",
    "            plt.subplot(2,2,i)\n",
    "            plt.xticks(rotation=90,fontsize=15)\n",
    "            plt.yticks(fontsize=15)\n",
    "            plt.title(category, fontsize=18)\n",
    "            plt.bar(np.arange(nbars), number, tick_label=labels)\n",
    "            i=i+1\n",
    "    \n",
    "    \n",
    "    \n",
    "histogram_label(news)   \n",
    "plt.tight_layout()\n",
    "plt.show()"
   ]
  },
  {
   "cell_type": "code",
   "execution_count": null,
   "metadata": {
    "collapsed": true
   },
   "outputs": [],
   "source": []
  }
 ],
 "metadata": {
  "kernelspec": {
   "display_name": "Python 3",
   "language": "python",
   "name": "python3"
  },
  "language_info": {
   "codemirror_mode": {
    "name": "ipython",
    "version": 3
   },
   "file_extension": ".py",
   "mimetype": "text/x-python",
   "name": "python",
   "nbconvert_exporter": "python",
   "pygments_lexer": "ipython3",
   "version": "3.5.0"
  }
 },
 "nbformat": 4,
 "nbformat_minor": 2
}
